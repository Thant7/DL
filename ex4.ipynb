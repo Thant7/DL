{
 "cells": [
  {
   "cell_type": "code",
   "execution_count": 206,
   "id": "caec9b8b-4ee3-42b4-8d94-02bba210ab2a",
   "metadata": {},
   "outputs": [],
   "source": [
    "import numpy as np\n",
    "import matplotlib.pyplot as plt"
   ]
  },
  {
   "cell_type": "code",
   "execution_count": 207,
   "id": "ebd18d3a-81af-42d9-9123-da487b2ac661",
   "metadata": {},
   "outputs": [],
   "source": [
    "X = np.array([\n",
    "    [-1,-1],\n",
    "    [1,1],\n",
    "    [1,-1],\n",
    "    [-1,1]\n",
    "])\n",
    "\n",
    "y = np.array([0,0,1,1])\n",
    "\n",
    "n,m = X.shape\n",
    "w = np.zeros(m)"
   ]
  },
  {
   "cell_type": "code",
   "execution_count": 208,
   "id": "9d7379a7-6cf7-427e-9edb-6c989c36c071",
   "metadata": {},
   "outputs": [
    {
     "data": {
      "text/plain": [
       "array([0., 0.])"
      ]
     },
     "execution_count": 208,
     "metadata": {},
     "output_type": "execute_result"
    }
   ],
   "source": [
    "def sigmoid(x):\n",
    "    exp = np.exp(np.clip(-x, -100, 100))\n",
    "    return 1 / (1+ exp)\n",
    "\n",
    "def sigmoid_derivative(x):\n",
    "    return sigmoid(x) * (1 - sigmoid(x))\n",
    "\n",
    "def loss_func(y, pred):\n",
    "    epsilon = 1e-9  # To avoid log(0)\n",
    "    pred = np.clip(pred, epsilon, 1 - epsilon)  # Ensure predictions are within (0, 1)\n",
    "    return - (y * np.log(pred) + (1 - y) * np.log(1 - pred))\n",
    "\n",
    "def backward(x, y, w, z1, a1):\n",
    "    dL_da = a1 - y\n",
    "    da_dz = sigmoid_derivative(z1)\n",
    "    dz_dw = x\n",
    "\n",
    "    dL_dw = np.dot(dL_da * da_dz, dz_dw)\n",
    "    return dL_dw\n",
    "dL_dw = backward(X, y, w, z1, a1)\n",
    "dL_dw"
   ]
  },
  {
   "cell_type": "code",
   "execution_count": 209,
   "id": "6f81c90e-2a7b-4e78-925d-003dafb42c14",
   "metadata": {},
   "outputs": [],
   "source": [
    "alpha = 1\n",
    "epochs = 10000\n",
    "losses = []\n",
    "ws = []\n",
    "\n",
    "for epoch in range(epochs):\n",
    "    z1 = np.dot(w, X.T)\n",
    "    a1 = sigmoid(z1)\n",
    "     \n",
    "    loss = np.sum(loss_func(y, a1))\n",
    "    losses.append(loss)\n",
    "    \n",
    "    dL_dw = backward(X, y, w, z1, a1)\n",
    "    \n",
    "    w -= alpha * dL_dw\n"
   ]
  },
  {
   "cell_type": "code",
   "execution_count": 210,
   "id": "4020d86a-fbe7-43dc-ba39-c7c81a728f04",
   "metadata": {},
   "outputs": [
    {
     "data": {
      "text/plain": [
       "[<matplotlib.lines.Line2D at 0x22dbb113710>]"
      ]
     },
     "execution_count": 210,
     "metadata": {},
     "output_type": "execute_result"
    },
    {
     "data": {
      "image/png": "[encoded data removed]",
      "text/plain": [
       "<Figure size 640x480 with 1 Axes>"
      ]
     },
     "metadata": {},
     "output_type": "display_data"
    }
   ],
   "source": [
    "plt.plot(losses)\n"
   ]
  }
 ],
 "metadata": {
  "kernelspec": {
   "display_name": "Python 3 (ipykernel)",
   "language": "python",
   "name": "python3"
  },
  "language_info": {
   "codemirror_mode": {
    "name": "ipython",
    "version": 3
   },
   "file_extension": ".py",
   "mimetype": "text/x-python",
   "name": "python",
   "nbconvert_exporter": "python",
   "pygments_lexer": "ipython3",
   "version": "3.12.7"
  }
 },
 "nbformat": 4,
 "nbformat_minor": 5
}
