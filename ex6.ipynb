{
 "cells": [
  {
   "cell_type": "code",
   "execution_count": 1,
   "id": "6b97b446-58f1-4f7a-a0cf-d52abbc9af61",
   "metadata": {},
   "outputs": [],
   "source": [
    "import numpy as np\n",
    "import matplotlib.pyplot as plt"
   ]
  },
  {
   "cell_type": "code",
   "execution_count": 133,
   "id": "74612acd-df69-4213-bc55-dc0b46355fa1",
   "metadata": {},
   "outputs": [
    {
     "data": {
      "text/plain": [
       "(1, 2)"
      ]
     },
     "execution_count": 133,
     "metadata": {},
     "output_type": "execute_result"
    }
   ],
   "source": [
    "# Set random seed for reproducibility\n",
    "np.random.seed(42)\n",
    "\n",
    "# Number of samples per class\n",
    "n_samples = 100\n",
    "\n",
    "# Generate class 1 (label 1)\n",
    "x1_class1 = np.random.uniform(2, 5, n_samples)\n",
    "x2_class1 = np.random.uniform(3, 6, n_samples)\n",
    "class1 = np.column_stack((x1_class1, x2_class1))\n",
    "labels_class1 = np.ones((n_samples, 1))\n",
    "\n",
    "# Generate class 2 (label -1)\n",
    "x1_class2 = np.random.uniform(-1, 2, n_samples)\n",
    "x2_class2 = np.random.uniform(-2, 1, n_samples)\n",
    "class2 = np.column_stack((x1_class2, x2_class2))\n",
    "labels_class2 = -np.ones((n_samples, 1))\n",
    "\n",
    "# Combine the data\n",
    "features = np.vstack((class1, class2))\n",
    "labels = np.vstack((labels_class1, labels_class2)).flatten().reshape(-1,1)\n",
    "\n",
    "# w = 2, features\n",
    "# \n",
    "n, m= features.shape\n",
    "w = np.random.rand(1 , 2) * 0.01\n",
    "w.shape"
   ]
  },
  {
   "cell_type": "code",
   "execution_count": 97,
   "id": "6a3aea15-1c4b-4f88-8b5a-85fe87ec13c2",
   "metadata": {},
   "outputs": [],
   "source": [
    "def f(x, w):\n",
    "    return np.dot(w, x.T)\n",
    "\n",
    "# z1 = f(features, w)\n",
    "# a1 = z1.T\n",
    "\n",
    "# # a1.shape\n",
    "# # labels.shape\n",
    "# loss = np.sum(1/200 * (labels - a1)**2)\n",
    "# loss"
   ]
  },
  {
   "cell_type": "code",
   "execution_count": 123,
   "id": "4ef961c1-27b7-41a8-bb02-ede45c549239",
   "metadata": {},
   "outputs": [],
   "source": [
    "def backward(x, y, w, z1, a1):\n",
    "    dL_da1 = -(y - a1)\n",
    "    da1_dz1 = 1\n",
    "    delta_L = dL_da1 * da1_dz1\n",
    "    dz1_dw1 = x\n",
    "    dL_dw1 = np.dot(delta_L.T , dz1_dw1) / len(x)\n",
    "    return dL_dw1"
   ]
  },
  {
   "cell_type": "code",
   "execution_count": 135,
   "id": "665fa80c-6311-480c-8196-ad6961217995",
   "metadata": {},
   "outputs": [
    {
     "name": "stdout",
     "output_type": "stream",
     "text": [
      "Final weights: [[-0.07242345  0.27073832]]\n"
     ]
    }
   ],
   "source": [
    "r = 0.0001\n",
    "epochs = 10000\n",
    "losses = []\n",
    "for epoch in range(epochs):\n",
    "    z1 = f(features, w)\n",
    "    a1 = z1.T\n",
    "    loss = np.sum((labels - a1)**2) / (2 * len(labels))\n",
    "    losses.append(loss)\n",
    "\n",
    "    dL_dw1 = backward(features, labels, w, z1, a1)\n",
    "    w -= r * dL_dw1\n",
    "    if np.isnan(w).any():\n",
    "        print(f\"NaN detected at epoch {epoch}. Stopping training.\")\n",
    "        break\n",
    "\n",
    "print(\"Final weights:\", w)\n"
   ]
  },
  {
   "cell_type": "code",
   "execution_count": 139,
   "id": "c2ea5ddd-4c50-49a0-9c87-8d0905acc2d5",
   "metadata": {},
   "outputs": [
    {
     "data": {
      "text/plain": [
       "[<matplotlib.lines.Line2D at 0x135949bd010>]"
      ]
     },
     "execution_count": 139,
     "metadata": {},
     "output_type": "execute_result"
    },
    {
     "data": {
      "image/png": "[encoded data removed]",
      "text/plain": [
       "<Figure size 640x480 with 1 Axes>"
      ]
     },
     "metadata": {},
     "output_type": "display_data"
    }
   ],
   "source": [
    "plt.plot(losses)"
   ]
  }
 ],
 "metadata": {
  "kernelspec": {
   "display_name": "Python 3 (ipykernel)",
   "language": "python",
   "name": "python3"
  },
  "language_info": {
   "codemirror_mode": {
    "name": "ipython",
    "version": 3
   },
   "file_extension": ".py",
   "mimetype": "text/x-python",
   "name": "python",
   "nbconvert_exporter": "python",
   "pygments_lexer": "ipython3",
   "version": "3.12.7"
  }
 },
 "nbformat": 4,
 "nbformat_minor": 5
}
